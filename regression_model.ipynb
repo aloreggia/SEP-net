{
 "cells": [
  {
   "cell_type": "code",
   "execution_count": 1,
   "id": "52392663",
   "metadata": {},
   "outputs": [
    {
     "name": "stderr",
     "output_type": "stream",
     "text": [
      "Using Theano backend.\n",
      "WARNING (theano.tensor.blas): Using NumPy C-API based implementation for BLAS functions.\n"
     ]
    },
    {
     "name": "stdout",
     "output_type": "stream",
     "text": [
      "DELI TIME: 78.22689768976898\n",
      "BATH TIME: 91.3168831168831\n",
      "AIR TIME: 102.3038194444444\n"
     ]
    }
   ],
   "source": [
    "import pandas as pd\n",
    "import time\n",
    "from Vorace import Vorace\n",
    "from SEP import SEP\n",
    "from SEP_svm import SEP_svm\n",
    "from SEP_svm_no import SEP_svm_no\n",
    "from sklearn import svm\n",
    "\n",
    "import matplotlib.pyplot as plt\n",
    "from sklearn.metrics import accuracy_score\n",
    "# data visualization\n",
    "import seaborn as sns\n",
    "from matplotlib import pyplot as plt\n",
    "from matplotlib import style\n",
    "from sklearn.preprocessing import LabelEncoder\n",
    "import numpy as np\n",
    "\n",
    "import scipy.stats as stats\n",
    "from scipy.stats import wilcoxon, shapiro\n",
    "from sklearn.model_selection import cross_val_score\n",
    "\n",
    "from sklearn.ensemble import RandomForestClassifier\n",
    "from xgboost import XGBClassifier\n",
    "\n",
    "from sklearn.model_selection import train_test_split\n",
    "from keras.utils import to_categorical\n",
    "from sklearn import metrics\n",
    "from sklearn.model_selection import StratifiedKFold\n",
    "from sklearn.metrics import precision_recall_fscore_support, f1_score, precision_score, recall_score\n",
    "\n",
    "import random\n",
    "random.seed(42)\n",
    "\n",
    "import networkx as nx\n",
    "\n",
    "import warnings\n",
    "\n",
    "def fxn():\n",
    "    warnings.warn(\"deprecated\", DeprecationWarning)\n",
    "\n",
    "with warnings.catch_warnings():\n",
    "    warnings.simplefilter(\"ignore\")\n",
    "    fxn()\n",
    "\n",
    "def compareEq(data1,data2):\n",
    "    n=len(data1)\n",
    "    if len(data1)>len(data2):\n",
    "        n=len(data2)\n",
    "    temp_data1=data1.sample(n=n)\n",
    "    temp_data2=data2.sample(n=n)\n",
    "    #print(len(data1), \" \", len(data2))\n",
    "    stat, p = wilcoxon(temp_data1, temp_data2, correction=True)\n",
    "    return stat, p\n",
    "\n",
    "# CARICA IL DATASET\n",
    "prefix=(\"DF\",\"BF\",\"AF\")\n",
    "suffix={\"DF\":[\"SP\",\"WA\",\"SO\",\"CA\",\"CO\",\"SU\",\"BR\",\"HS\",\"TP\",\"MA\",\"FA\",\"SW\"], \\\n",
    "        \"BF\":[\"HA\",\"CL\",\"TU\",\"JA\",\"FR\",\"EL\",\"BR\"],\t \\\n",
    "        \"AF\":[\"MN\",\"BA\",\"JA\",\"CA\",\"BR\",\"HR\"]}\n",
    "\n",
    "listIndex=(\"1_1\",\"2_1\",\"3_1\",\"4_1\",\"5_1\",\"6_1\",\"7_1\",\"8_1\",\"8_2\")\n",
    "\n",
    "mapping={}\n",
    "list=('DFO_SP','DFO_WA','DFO_SO','DFO_CA','DFO_CO','DFO_SU','DFO_BR','DFO_HS','DFO_TP','DFO_MA','DFO_FA','DFO_SW','BFO_HA','BFO_CL','BFO_TU','BFO_JA','BFO_FR','BFO_EL','BFO_BR','AFO_MN','AFO_BA','AFO_JA','AFO_CA','AFO_BR','AFO_HR')\n",
    "#len(list)\n",
    "\n",
    "listNine=[]\n",
    "\n",
    "for p in prefix:\n",
    "    for s in suffix[p]:\n",
    "        string=p+\"O_\"+s\n",
    "        mapping[string]=list.index(string)\n",
    "        item=[]\n",
    "        item.append(string)\n",
    "        for i in listIndex:\n",
    "            item.append(p+\"U_\"+s+\"_\"+i)\n",
    "\n",
    "        listNine.append(item)\n",
    "        #print(string, end=\"\")\n",
    "\n",
    "#print(listNine)\n",
    "new_listNine=['pref','q_1_1', 'q_2_1', 'q_3_1', 'q_4_1', 'q_5_1', 'q_6_1', 'q_7_1', 'q_8_1', 'q_8_2']\n",
    "new_listNine=['pref','everyone','first_person','middle_person','last_person','cutter','univers.','likelihood','delay_min','delay_sec']\n",
    "new_listNine=['Judgement',\"Global Welfare\", \"First Person Welfare\", \"Middle Person Welfare\", \"Last Person Welfare\", \"Line Cutter Welfare\", \"Universalization\", \"Likelihood\",'delay_min','delay_sec']\n",
    "\n",
    "train_df=pd.read_csv(\"data/pref_eval_test.csv\", sep=\";\")\n",
    "train_df=train_df[train_df.Q276==\"I am paying attention\"]\n",
    "\n",
    "new_train=pd.DataFrame()\n",
    "\n",
    "for l in listNine:\n",
    "    #crea dizionario per la mappatura con i nuovi campi tutti con lo stesso nome\n",
    "    #l=[list[j]]+listNine[j]\n",
    "    dictTemp={l[i]: new_listNine[i] for i in range(0, len(new_listNine))}\n",
    "    l.append('Duration')\n",
    "    #estrae domande per scenario\n",
    "    temp=train_df[train_df.columns.intersection(l)]\n",
    "    #print(temp)\n",
    "    #cambia nome\n",
    "    temp=temp.rename(columns=dictTemp)\n",
    "    temp=temp.dropna()\n",
    "    temp[\"type\"]=listNine.index(l)\n",
    "    #print(len(listNine))\n",
    "    #exit()\n",
    "    if listNine.index(l)<12:\n",
    "        temp[\"family\"]=0\n",
    "        temp.Duration /= 12\n",
    "    elif listNine.index(l)<19:\n",
    "        temp[\"family\"]=1\n",
    "        temp.Duration /= 7\n",
    "    else:\n",
    "        temp[\"family\"]=2\n",
    "        temp.Duration /= 6\n",
    "    #print(temp)\n",
    "    #temp[\"value\"]=np.nan\n",
    "    new_train=pd.concat([new_train,temp], axis=0, ignore_index=True)\n",
    "\n",
    "print(f\"DELI TIME: {np.mean(new_train.Duration[new_train.family==0])}\")\n",
    "print(f\"BATH TIME: {np.mean(new_train.Duration[new_train.family==1])}\")\n",
    "print(f\"AIR TIME: {np.mean(new_train.Duration[new_train.family==2])}\")\n"
   ]
  },
  {
   "cell_type": "code",
   "execution_count": 2,
   "id": "75d9d319",
   "metadata": {},
   "outputs": [],
   "source": [
    "from sklearn import linear_model\n",
    "\n",
    "y = new_train['Judgement']\n",
    "#x = new_train[[\"Global Welfare\", \"First Person Welfare\", \"Middle Person Welfare\", \"Last Person Welfare\", \"Line Cutter Welfare\", \"Universalization\", \"Likelihood\",'delay_min','delay_sec']]\n",
    "x = new_train[[\"Global Welfare\", \"First Person Welfare\", \"Middle Person Welfare\", \"Last Person Welfare\", \"Line Cutter Welfare\", \"Universalization\", \"Likelihood\",'type','family']]\n",
    "y = y-1"
   ]
  },
  {
   "cell_type": "code",
   "execution_count": 3,
   "id": "bfc7293d",
   "metadata": {},
   "outputs": [
    {
     "name": "stdout",
     "output_type": "stream",
     "text": [
      "0.8017982799061767\n"
     ]
    }
   ],
   "source": [
    "sepsvm = SEP_svm()\n",
    "sepsvm.fit(x,y)\n",
    "y_pred = sepsvm.predict(x)\n",
    "accuracy = accuracy_score(y, y_pred)\n",
    "print(accuracy)"
   ]
  },
  {
   "cell_type": "code",
   "execution_count": 3,
   "id": "dc8a52af",
   "metadata": {},
   "outputs": [
    {
     "data": {
      "text/html": [
       "<div>\n",
       "<style scoped>\n",
       "    .dataframe tbody tr th:only-of-type {\n",
       "        vertical-align: middle;\n",
       "    }\n",
       "\n",
       "    .dataframe tbody tr th {\n",
       "        vertical-align: top;\n",
       "    }\n",
       "\n",
       "    .dataframe thead th {\n",
       "        text-align: right;\n",
       "    }\n",
       "</style>\n",
       "<table border=\"1\" class=\"dataframe\">\n",
       "  <thead>\n",
       "    <tr style=\"text-align: right;\">\n",
       "      <th></th>\n",
       "      <th>Global Welfare</th>\n",
       "      <th>First Person Welfare</th>\n",
       "      <th>Middle Person Welfare</th>\n",
       "      <th>Last Person Welfare</th>\n",
       "      <th>Line Cutter Welfare</th>\n",
       "      <th>Universalization</th>\n",
       "      <th>Likelihood</th>\n",
       "      <th>type</th>\n",
       "      <th>family</th>\n",
       "    </tr>\n",
       "  </thead>\n",
       "  <tbody>\n",
       "    <tr>\n",
       "      <th>0</th>\n",
       "      <td>38.0</td>\n",
       "      <td>36.0</td>\n",
       "      <td>25.0</td>\n",
       "      <td>27.0</td>\n",
       "      <td>34.0</td>\n",
       "      <td>33.0</td>\n",
       "      <td>85.0</td>\n",
       "      <td>0</td>\n",
       "      <td>0</td>\n",
       "    </tr>\n",
       "    <tr>\n",
       "      <th>1</th>\n",
       "      <td>-32.0</td>\n",
       "      <td>-1.0</td>\n",
       "      <td>-9.0</td>\n",
       "      <td>-32.0</td>\n",
       "      <td>30.0</td>\n",
       "      <td>-44.0</td>\n",
       "      <td>72.0</td>\n",
       "      <td>0</td>\n",
       "      <td>0</td>\n",
       "    </tr>\n",
       "    <tr>\n",
       "      <th>2</th>\n",
       "      <td>-27.0</td>\n",
       "      <td>-12.0</td>\n",
       "      <td>-23.0</td>\n",
       "      <td>-24.0</td>\n",
       "      <td>18.0</td>\n",
       "      <td>-16.0</td>\n",
       "      <td>31.0</td>\n",
       "      <td>0</td>\n",
       "      <td>0</td>\n",
       "    </tr>\n",
       "    <tr>\n",
       "      <th>3</th>\n",
       "      <td>1.0</td>\n",
       "      <td>-2.0</td>\n",
       "      <td>-3.0</td>\n",
       "      <td>-2.0</td>\n",
       "      <td>28.0</td>\n",
       "      <td>21.0</td>\n",
       "      <td>90.0</td>\n",
       "      <td>0</td>\n",
       "      <td>0</td>\n",
       "    </tr>\n",
       "    <tr>\n",
       "      <th>4</th>\n",
       "      <td>-15.0</td>\n",
       "      <td>-10.0</td>\n",
       "      <td>-13.0</td>\n",
       "      <td>-11.0</td>\n",
       "      <td>11.0</td>\n",
       "      <td>-17.0</td>\n",
       "      <td>10.0</td>\n",
       "      <td>0</td>\n",
       "      <td>0</td>\n",
       "    </tr>\n",
       "    <tr>\n",
       "      <th>...</th>\n",
       "      <td>...</td>\n",
       "      <td>...</td>\n",
       "      <td>...</td>\n",
       "      <td>...</td>\n",
       "      <td>...</td>\n",
       "      <td>...</td>\n",
       "      <td>...</td>\n",
       "      <td>...</td>\n",
       "      <td>...</td>\n",
       "    </tr>\n",
       "    <tr>\n",
       "      <th>2553</th>\n",
       "      <td>-35.0</td>\n",
       "      <td>-21.0</td>\n",
       "      <td>-26.0</td>\n",
       "      <td>-37.0</td>\n",
       "      <td>50.0</td>\n",
       "      <td>-41.0</td>\n",
       "      <td>58.0</td>\n",
       "      <td>24</td>\n",
       "      <td>2</td>\n",
       "    </tr>\n",
       "    <tr>\n",
       "      <th>2554</th>\n",
       "      <td>-14.0</td>\n",
       "      <td>-8.0</td>\n",
       "      <td>-11.0</td>\n",
       "      <td>-4.0</td>\n",
       "      <td>5.0</td>\n",
       "      <td>-28.0</td>\n",
       "      <td>10.0</td>\n",
       "      <td>24</td>\n",
       "      <td>2</td>\n",
       "    </tr>\n",
       "    <tr>\n",
       "      <th>2555</th>\n",
       "      <td>-24.0</td>\n",
       "      <td>31.0</td>\n",
       "      <td>-19.0</td>\n",
       "      <td>-22.0</td>\n",
       "      <td>22.0</td>\n",
       "      <td>-40.0</td>\n",
       "      <td>73.0</td>\n",
       "      <td>24</td>\n",
       "      <td>2</td>\n",
       "    </tr>\n",
       "    <tr>\n",
       "      <th>2556</th>\n",
       "      <td>27.0</td>\n",
       "      <td>37.0</td>\n",
       "      <td>40.0</td>\n",
       "      <td>23.0</td>\n",
       "      <td>32.0</td>\n",
       "      <td>22.0</td>\n",
       "      <td>81.0</td>\n",
       "      <td>24</td>\n",
       "      <td>2</td>\n",
       "    </tr>\n",
       "    <tr>\n",
       "      <th>2557</th>\n",
       "      <td>-13.0</td>\n",
       "      <td>14.0</td>\n",
       "      <td>21.0</td>\n",
       "      <td>14.0</td>\n",
       "      <td>24.0</td>\n",
       "      <td>28.0</td>\n",
       "      <td>65.0</td>\n",
       "      <td>24</td>\n",
       "      <td>2</td>\n",
       "    </tr>\n",
       "  </tbody>\n",
       "</table>\n",
       "<p>2558 rows × 9 columns</p>\n",
       "</div>"
      ],
      "text/plain": [
       "      Global Welfare  First Person Welfare  Middle Person Welfare  \\\n",
       "0               38.0                  36.0                   25.0   \n",
       "1              -32.0                  -1.0                   -9.0   \n",
       "2              -27.0                 -12.0                  -23.0   \n",
       "3                1.0                  -2.0                   -3.0   \n",
       "4              -15.0                 -10.0                  -13.0   \n",
       "...              ...                   ...                    ...   \n",
       "2553           -35.0                 -21.0                  -26.0   \n",
       "2554           -14.0                  -8.0                  -11.0   \n",
       "2555           -24.0                  31.0                  -19.0   \n",
       "2556            27.0                  37.0                   40.0   \n",
       "2557           -13.0                  14.0                   21.0   \n",
       "\n",
       "      Last Person Welfare  Line Cutter Welfare  Universalization  Likelihood  \\\n",
       "0                    27.0                 34.0              33.0        85.0   \n",
       "1                   -32.0                 30.0             -44.0        72.0   \n",
       "2                   -24.0                 18.0             -16.0        31.0   \n",
       "3                    -2.0                 28.0              21.0        90.0   \n",
       "4                   -11.0                 11.0             -17.0        10.0   \n",
       "...                   ...                  ...               ...         ...   \n",
       "2553                -37.0                 50.0             -41.0        58.0   \n",
       "2554                 -4.0                  5.0             -28.0        10.0   \n",
       "2555                -22.0                 22.0             -40.0        73.0   \n",
       "2556                 23.0                 32.0              22.0        81.0   \n",
       "2557                 14.0                 24.0              28.0        65.0   \n",
       "\n",
       "      type  family  \n",
       "0        0       0  \n",
       "1        0       0  \n",
       "2        0       0  \n",
       "3        0       0  \n",
       "4        0       0  \n",
       "...    ...     ...  \n",
       "2553    24       2  \n",
       "2554    24       2  \n",
       "2555    24       2  \n",
       "2556    24       2  \n",
       "2557    24       2  \n",
       "\n",
       "[2558 rows x 9 columns]"
      ]
     },
     "execution_count": 3,
     "metadata": {},
     "output_type": "execute_result"
    }
   ],
   "source": [
    "x"
   ]
  },
  {
   "cell_type": "code",
   "execution_count": 43,
   "id": "c5c41450",
   "metadata": {},
   "outputs": [
    {
     "data": {
      "text/plain": [
       "array([[<matplotlib.axes._subplots.AxesSubplot object at 0x12f8c0400>,\n",
       "        <matplotlib.axes._subplots.AxesSubplot object at 0x12fb48390>],\n",
       "       [<matplotlib.axes._subplots.AxesSubplot object at 0x12fbc7da0>,\n",
       "        <matplotlib.axes._subplots.AxesSubplot object at 0x12fc6acc0>]],\n",
       "      dtype=object)"
      ]
     },
     "execution_count": 43,
     "metadata": {},
     "output_type": "execute_result"
    },
    {
     "data": {
      "image/png": "[encoded data removed]",
      "text/plain": [
       "<Figure size 432x288 with 4 Axes>"
      ]
     },
     "metadata": {
      "needs_background": "light"
     },
     "output_type": "display_data"
    }
   ],
   "source": [
    "new_train.hist(column=\"Judgement\", by=\"family\")"
   ]
  },
  {
   "cell_type": "code",
   "execution_count": 19,
   "id": "71fc60d3",
   "metadata": {},
   "outputs": [
    {
     "name": "stdout",
     "output_type": "stream",
     "text": [
      "-0.08 accuracy with a standard deviation of 0.54\n"
     ]
    }
   ],
   "source": [
    "scores = cross_val_score(regr, x, y, cv=10)\n",
    "print(\"%0.2f accuracy with a standard deviation of %0.2f\" % (scores.mean(), scores.std()))"
   ]
  },
  {
   "cell_type": "code",
   "execution_count": 7,
   "id": "5f885619",
   "metadata": {},
   "outputs": [],
   "source": [
    "\n",
    "\n",
    "X_train, X_test, y_train, y_test = train_test_split(x, y, test_size=0.3) # 70% training and 30% test"
   ]
  },
  {
   "cell_type": "code",
   "execution_count": 16,
   "id": "59ea1031",
   "metadata": {},
   "outputs": [],
   "source": [
    "#Create a Gaussian Classifier\n",
    "clf=RandomForestClassifier(n_estimators=100)\n",
    "scores = cross_val_score(clf, x, y, cv=10, scoring='f1_macro')\n",
    "\n",
    "#Train the model using the training sets y_pred=clf.predict(X_test)\n",
    "#clf.fit(X_train,y_train)\n",
    "\n",
    "#y_pred=clf.predict(X_test)\n",
    "\n"
   ]
  },
  {
   "cell_type": "code",
   "execution_count": 17,
   "id": "4178d91e",
   "metadata": {},
   "outputs": [
    {
     "name": "stdout",
     "output_type": "stream",
     "text": [
      "0.56 accuracy with a standard deviation of 0.14\n"
     ]
    }
   ],
   "source": [
    "print(\"%0.2f accuracy with a standard deviation of %0.2f\" % (scores.mean(), scores.std()))"
   ]
  },
  {
   "cell_type": "code",
   "execution_count": 10,
   "id": "78ba9fbb",
   "metadata": {},
   "outputs": [
    {
     "ename": "NameError",
     "evalue": "name 'y_pred' is not defined",
     "output_type": "error",
     "traceback": [
      "\u001b[0;31m---------------------------------------------------------------------------\u001b[0m",
      "\u001b[0;31mNameError\u001b[0m                                 Traceback (most recent call last)",
      "\u001b[0;32m<ipython-input-10-d824e6759c92>\u001b[0m in \u001b[0;36m<module>\u001b[0;34m()\u001b[0m\n\u001b[1;32m      2\u001b[0m \u001b[0;34m\u001b[0m\u001b[0m\n\u001b[1;32m      3\u001b[0m \u001b[0;31m# Model Accuracy, how often is the classifier correct?\u001b[0m\u001b[0;34m\u001b[0m\u001b[0;34m\u001b[0m\u001b[0;34m\u001b[0m\u001b[0m\n\u001b[0;32m----> 4\u001b[0;31m \u001b[0mprint\u001b[0m\u001b[0;34m(\u001b[0m\u001b[0;34m\"Accuracy:\"\u001b[0m\u001b[0;34m,\u001b[0m\u001b[0mmetrics\u001b[0m\u001b[0;34m.\u001b[0m\u001b[0maccuracy_score\u001b[0m\u001b[0;34m(\u001b[0m\u001b[0my_test\u001b[0m\u001b[0;34m,\u001b[0m \u001b[0my_pred\u001b[0m\u001b[0;34m)\u001b[0m\u001b[0;34m)\u001b[0m\u001b[0;34m\u001b[0m\u001b[0;34m\u001b[0m\u001b[0m\n\u001b[0m",
      "\u001b[0;31mNameError\u001b[0m: name 'y_pred' is not defined"
     ]
    }
   ],
   "source": [
    "#Import scikit-learn metrics module for accuracy calculation\n",
    "\n",
    "# Model Accuracy, how often is the classifier correct?\n",
    "print(\"Accuracy:\",metrics.accuracy_score(y_test, y_pred))"
   ]
  },
  {
   "cell_type": "code",
   "execution_count": 21,
   "id": "7dcdc0e7",
   "metadata": {},
   "outputs": [
    {
     "name": "stdout",
     "output_type": "stream",
     "text": [
      "0.52 accuracy with a standard deviation of 0.21\n"
     ]
    }
   ],
   "source": [
    "# fit model no training data\n",
    "model = XGBClassifier()\n",
    "scores = cross_val_score(model, x, y, cv=10, scoring='accuracy')\n",
    "print(\"%0.2f accuracy with a standard deviation of %0.2f\" % (scores.mean(), scores.std()))"
   ]
  },
  {
   "cell_type": "code",
   "execution_count": 22,
   "id": "79b5506a",
   "metadata": {},
   "outputs": [],
   "source": [
    "\n",
    "model.fit(X_train, y_train)\n",
    "y_pred = model.predict(X_test)"
   ]
  },
  {
   "cell_type": "code",
   "execution_count": 23,
   "id": "f9ce158e",
   "metadata": {},
   "outputs": [
    {
     "name": "stdout",
     "output_type": "stream",
     "text": [
      "Accuracy: 80.99%\n"
     ]
    }
   ],
   "source": [
    "\n",
    "# evaluate predictions\n",
    "accuracy = metrics.accuracy_score(y_test, y_pred)\n",
    "print(\"Accuracy: %.2f%%\" % (accuracy * 100.0))"
   ]
  },
  {
   "cell_type": "code",
   "execution_count": 15,
   "id": "e6f972a2",
   "metadata": {},
   "outputs": [
    {
     "data": {
      "image/png": "[encoded data removed]",
      "text/plain": [
       "<Figure size 432x288 with 1 Axes>"
      ]
     },
     "metadata": {
      "needs_background": "light"
     },
     "output_type": "display_data"
    }
   ],
   "source": [
    "plt.hist(y, weights=np.ones(len(y)) / len(y))\n",
    "plt.show()"
   ]
  },
  {
   "cell_type": "code",
   "execution_count": 3,
   "id": "d503eea2",
   "metadata": {},
   "outputs": [
    {
     "name": "stdout",
     "output_type": "stream",
     "text": [
      "DOING: 1th iteration\n"
     ]
    },
    {
     "name": "stderr",
     "output_type": "stream",
     "text": [
      "/Users/aloreggia/anaconda3/lib/python3.7/site-packages/pandas/core/indexing.py:1817: SettingWithCopyWarning: \n",
      "A value is trying to be set on a copy of a slice from a DataFrame.\n",
      "Try using .loc[row_indexer,col_indexer] = value instead\n",
      "\n",
      "See the caveats in the documentation: https://pandas.pydata.org/pandas-docs/stable/user_guide/indexing.html#returning-a-view-versus-a-copy\n",
      "  self._setitem_single_column(loc, value, pi)\n"
     ]
    },
    {
     "name": "stdout",
     "output_type": "stream",
     "text": [
      "Random sep: 0/512 \n",
      "DONE: 1th iteration\n",
      "DOING: 2th iteration\n"
     ]
    },
    {
     "name": "stderr",
     "output_type": "stream",
     "text": [
      "/Users/aloreggia/anaconda3/lib/python3.7/site-packages/pandas/core/indexing.py:1817: SettingWithCopyWarning: \n",
      "A value is trying to be set on a copy of a slice from a DataFrame.\n",
      "Try using .loc[row_indexer,col_indexer] = value instead\n",
      "\n",
      "See the caveats in the documentation: https://pandas.pydata.org/pandas-docs/stable/user_guide/indexing.html#returning-a-view-versus-a-copy\n",
      "  self._setitem_single_column(loc, value, pi)\n"
     ]
    },
    {
     "name": "stdout",
     "output_type": "stream",
     "text": [
      "Random sep: 0/512 \n",
      "DONE: 2th iteration\n",
      "DOING: 3th iteration\n"
     ]
    },
    {
     "name": "stderr",
     "output_type": "stream",
     "text": [
      "/Users/aloreggia/anaconda3/lib/python3.7/site-packages/pandas/core/indexing.py:1817: SettingWithCopyWarning: \n",
      "A value is trying to be set on a copy of a slice from a DataFrame.\n",
      "Try using .loc[row_indexer,col_indexer] = value instead\n",
      "\n",
      "See the caveats in the documentation: https://pandas.pydata.org/pandas-docs/stable/user_guide/indexing.html#returning-a-view-versus-a-copy\n",
      "  self._setitem_single_column(loc, value, pi)\n"
     ]
    },
    {
     "name": "stdout",
     "output_type": "stream",
     "text": [
      "Random sep: 0/512 \n",
      "DONE: 3th iteration\n",
      "DOING: 4th iteration\n"
     ]
    },
    {
     "name": "stderr",
     "output_type": "stream",
     "text": [
      "/Users/aloreggia/anaconda3/lib/python3.7/site-packages/pandas/core/indexing.py:1817: SettingWithCopyWarning: \n",
      "A value is trying to be set on a copy of a slice from a DataFrame.\n",
      "Try using .loc[row_indexer,col_indexer] = value instead\n",
      "\n",
      "See the caveats in the documentation: https://pandas.pydata.org/pandas-docs/stable/user_guide/indexing.html#returning-a-view-versus-a-copy\n",
      "  self._setitem_single_column(loc, value, pi)\n"
     ]
    },
    {
     "name": "stdout",
     "output_type": "stream",
     "text": [
      "Random sep: 0/511 \n",
      "DONE: 4th iteration\n",
      "DOING: 5th iteration\n"
     ]
    },
    {
     "name": "stderr",
     "output_type": "stream",
     "text": [
      "/Users/aloreggia/anaconda3/lib/python3.7/site-packages/pandas/core/indexing.py:1817: SettingWithCopyWarning: \n",
      "A value is trying to be set on a copy of a slice from a DataFrame.\n",
      "Try using .loc[row_indexer,col_indexer] = value instead\n",
      "\n",
      "See the caveats in the documentation: https://pandas.pydata.org/pandas-docs/stable/user_guide/indexing.html#returning-a-view-versus-a-copy\n",
      "  self._setitem_single_column(loc, value, pi)\n"
     ]
    },
    {
     "name": "stdout",
     "output_type": "stream",
     "text": [
      "Random sep: 0/511 \n",
      "DONE: 5th iteration\n"
     ]
    }
   ],
   "source": [
    "from sklearn.model_selection import KFold\n",
    "from sklearn.metrics import precision_recall_fscore_support\n",
    "\n",
    "kf = KFold(n_splits=5,random_state=42, shuffle=True)\n",
    "\n",
    "score_vorace=[]\n",
    "score_xgb=[]\n",
    "score_rand=[]\n",
    "score_sep=[]\n",
    "score_sep_table=[]\n",
    "score_sep_no=[]\n",
    "score_svm=[]\n",
    "#x = np.array(x)\n",
    "#y = np.array(y)\n",
    "i = 0\n",
    "for train, test in kf.split(x,y):\n",
    "    i = i+1\n",
    "    print(f\"DOING: {i}th iteration\")\n",
    "    clf=RandomForestClassifier()\n",
    "    curr_time = round(time.time()*1000)\n",
    "    clf.fit(x.iloc[train],y[train])\n",
    "    curr_time = round(time.time()*1000) - curr_time\n",
    "    y_pred=clf.predict(x.iloc[test])\n",
    "    score_rand.append([accuracy_score(y[test], y_pred),f1_score(y[test], y_pred),precision_score(y[test], y_pred),recall_score(y[test], y_pred), curr_time])\n",
    "    \n",
    "    clf = XGBClassifier()\n",
    "    curr_time = round(time.time()*1000)\n",
    "    clf.fit(x.iloc[train],y[train])\n",
    "    curr_time = round(time.time()*1000) - curr_time\n",
    "    y_pred=clf.predict(x.iloc[test])\n",
    "    score_xgb.append([accuracy_score(y[test], y_pred),f1_score(y[test], y_pred),precision_score(y[test], y_pred),recall_score(y[test], y_pred),curr_time])\n",
    "    \n",
    "    #Create a svm Classifier\n",
    "    clf = svm.SVC(kernel='linear') # Linear Kernel\n",
    "    #Train the model using the training sets\n",
    "    curr_time = round(time.time()*1000)\n",
    "    clf.fit(x.iloc[train],y[train])\n",
    "    curr_time = round(time.time()*1000) - curr_time\n",
    "    #Predict the response for test dataset\n",
    "    y_pred = clf.predict(x.iloc[test])\n",
    "    score_svm.append([accuracy_score(y[test], y_pred),f1_score(y[test], y_pred),precision_score(y[test], y_pred),recall_score(y[test], y_pred),curr_time])\n",
    "\n",
    "    sep = SEP()\n",
    "    curr_time = round(time.time()*1000)\n",
    "    sep.fit(x.iloc[train],y[train])\n",
    "    curr_time = round(time.time()*1000) - curr_time\n",
    "    y_pred=sep.predict(x.iloc[test])\n",
    "    #print(f\"Random sep: {sep.random}/{len(x.iloc[test])} \")\n",
    "    score_sep_table.append([accuracy_score(y[test], y_pred),f1_score(y[test], y_pred),precision_score(y[test], y_pred),recall_score(y[test], y_pred),curr_time])\n",
    "    \n",
    "    sep = SEP_svm()\n",
    "    curr_time = round(time.time()*1000)\n",
    "    sep.fit(x.iloc[train],y[train])\n",
    "    curr_time = round(time.time()*1000) - curr_time\n",
    "    y_pred=sep.predict(x.iloc[test])\n",
    "    print(f\"Random sep: {sep.random}/{len(x.iloc[test])} \")\n",
    "    score_sep.append([accuracy_score(y[test], y_pred),f1_score(y[test], y_pred),precision_score(y[test], y_pred),recall_score(y[test], y_pred),curr_time])\n",
    "    \n",
    "    '''sep_no = SEP_svm_no()\n",
    "    sep_no.fit(x.iloc[train],y[train])\n",
    "    y_pred=sep_no.predict(x.iloc[test])\n",
    "    #print(f\"Random sep: {sep_no.random}/{len(x.iloc[test])} \")\n",
    "    score_sep_no.append([accuracy_score(y[test], y_pred),f1_score(y[test], y_pred),precision_score(y[test], y_pred),recall_score(y[test], y_pred),curr_time])\n",
    "    '''\n",
    "\n",
    "    y_oneHot=to_categorical(y[train],num_classes=2)\n",
    "    vorace = Vorace(n_models=100, profile_type=0, nInput=9, nClasses=2, batch_size=32)\n",
    "    curr_time = round(time.time()*1000)\n",
    "    vorace.fit(x.iloc[train], y[train], y_oneHot, bagging=False)\n",
    "    curr_time = round(time.time()*1000) - curr_time\n",
    "    y_pred,_ = vorace.predict(voting=\"Plurality\",x=x.iloc[test], nClasses=2, argMax=True, tiebreak=\"best\")\n",
    "    y_oneHot=to_categorical(y[test],num_classes=3)\n",
    "    score_vorace.append([accuracy_score(y[test], y_pred),f1_score(y[test], y_pred),precision_score(y[test], y_pred),recall_score(y[test], y_pred),curr_time])\n",
    "    print(f\"DONE: {i}th iteration\")\n",
    "\n",
    "\n",
    "    "
   ]
  },
  {
   "cell_type": "code",
   "execution_count": 4,
   "id": "604e5f73",
   "metadata": {},
   "outputs": [],
   "source": [
    "def print_results(list_results):\n",
    "    s = \"%0.4f (%0.4f) & \" % (np.mean(np.array(list_results)[:,0]), np.std(np.array(list_results)[:,0]))\n",
    "    s = s + \"%0.4f (%0.4f) & \" % (np.mean(np.array(list_results)[:,1]), np.std(np.array(list_results)[:,1]))\n",
    "    s = s + \"%0.4f (%0.4f) & \" % (np.mean(np.array(list_results)[:,2]), np.std(np.array(list_results)[:,2]))\n",
    "    s = s + \"%0.4f (%0.4f) & \" % (np.mean(np.array(list_results)[:,3]), np.std(np.array(list_results)[:,3]))\n",
    "    s = s + \"%0.0f (%0.0f) \\\\\\\\ \" % (np.mean(np.array(list_results)[:,4]), np.std(np.array(list_results)[:,4]))\n",
    "    return s"
   ]
  },
  {
   "cell_type": "code",
   "execution_count": 5,
   "id": "dd889c52",
   "metadata": {},
   "outputs": [
    {
     "name": "stdout",
     "output_type": "stream",
     "text": [
      "RandomForest &0.7651 (0.0069) & 0.7119 (0.0190) & 0.7402 (0.0121) & 0.6859 (0.0276) & 303 (24) \\\\ \n",
      "XGBoost &0.7870 (0.0227) & 0.7307 (0.0417) & 0.7822 (0.0325) & 0.6868 (0.0556) & 109 (4) \\\\ \n",
      "Vorace &0.7166 (0.0091) & 0.6620 (0.0178) & 0.6692 (0.0212) & 0.6550 (0.0152) & 181955 (10173) \\\\ \n",
      "SEP Table &0.7870 (0.0261) & 0.7329 (0.0367) & 0.7817 (0.0354) & 0.6906 (0.0438) & 22 (1) \\\\ \n",
      "SEP SVM &0.7834 (0.0248) & 0.7224 (0.0340) & 0.7926 (0.0458) & 0.6654 (0.0424) & 259 (17) \\\\ \n",
      "SVM &0.7115 (0.0192) & 0.6493 (0.0203) & 0.6704 (0.0103) & 0.6298 (0.0299) & 6157 (454) \\\\ \n"
     ]
    },
    {
     "data": {
      "text/plain": [
       "[[0.71875, 0.6470588235294118, 0.6502463054187192, 0.6439024390243903, 189581],\n",
       " [0.720703125,\n",
       "  0.6911447084233261,\n",
       "  0.7048458149779736,\n",
       "  0.6779661016949152,\n",
       "  190748],\n",
       " [0.72265625,\n",
       "  0.6586538461538461,\n",
       "  0.6715686274509803,\n",
       "  0.6462264150943396,\n",
       "  189657],\n",
       " [0.6986301369863014,\n",
       "  0.641860465116279,\n",
       "  0.6448598130841121,\n",
       "  0.6388888888888888,\n",
       "  173880],\n",
       " [0.7221135029354208,\n",
       "  0.6712962962962963,\n",
       "  0.6744186046511628,\n",
       "  0.6682027649769585,\n",
       "  165910]]"
      ]
     },
     "execution_count": 5,
     "metadata": {},
     "output_type": "execute_result"
    }
   ],
   "source": [
    "print(\"RandomForest &\" + print_results(score_rand))\n",
    "print(\"XGBoost &\" + print_results(score_xgb))\n",
    "print(\"Vorace &\" + print_results(score_vorace)) \n",
    "print(\"SEP Table &\" + print_results(score_sep_table)) \n",
    "print(\"SEP SVM &\" + print_results(score_sep)) \n",
    "#print(\"SEP NO &\" + print_results(score_sep_no))\n",
    "print(\"SVM &\" + print_results(score_svm)) \n",
    "score_vorace\n"
   ]
  },
  {
   "cell_type": "code",
   "execution_count": 7,
   "id": "8247c75e",
   "metadata": {},
   "outputs": [],
   "source": [
    "X_train, X_test, y_train, y_test = train_test_split(x, y, test_size=0.1)\n"
   ]
  },
  {
   "cell_type": "markdown",
   "id": "158676b6",
   "metadata": {},
   "source": [
    "RandomForest: 0.7701 accuracy with a standard deviation of 0.0262\n",
    "XGBoost: 0.7447 accuracy with a standard deviation of 0.0174\n",
    "Vorace: 0.7095 accuracy with a standard deviation of 0.0290\n",
    "SEP Table: 0.7850 accuracy with a standard deviation of 0.0278\n",
    "SEP SVM: 0.7862 accuracy with a standard deviation of 0.0304\n",
    "SEP NO: 0.7158 accuracy with a standard deviation of 0.0224\n",
    "SVM: 0.7142 accuracy with a standard deviation of 0.0233"
   ]
  },
  {
   "cell_type": "code",
   "execution_count": 14,
   "id": "50f85950",
   "metadata": {},
   "outputs": [],
   "source": []
  },
  {
   "cell_type": "code",
   "execution_count": 8,
   "id": "ca7fa53d",
   "metadata": {},
   "outputs": [
    {
     "name": "stdout",
     "output_type": "stream",
     "text": [
      "0.8359375\n",
      "0.7666666666666667\n",
      "0.8313253012048193\n",
      "0.711340206185567\n"
     ]
    }
   ],
   "source": [
    "sepnet = SEP_svm()\n",
    "sepnet.fit(X_train,y_train)\n",
    "y_pred = sepnet.predict(X_test)\n",
    "accuracy = accuracy_score(y_test, y_pred)\n",
    "print(accuracy)\n",
    "accuracy = f1_score(y_test, y_pred)\n",
    "print(accuracy)\n",
    "accuracy = precision_score(y_test, y_pred)\n",
    "print(accuracy)\n",
    "accuracy = recall_score(y_test, y_pred)\n",
    "print(accuracy)"
   ]
  },
  {
   "cell_type": "code",
   "execution_count": 9,
   "id": "0c113f57",
   "metadata": {},
   "outputs": [
    {
     "name": "stdout",
     "output_type": "stream",
     "text": [
      "0.8046875\n",
      "0.7282608695652173\n",
      "0.7701149425287356\n",
      "0.6907216494845361\n"
     ]
    }
   ],
   "source": [
    "clf = XGBClassifier()\n",
    "clf.fit(X_train,y_train)\n",
    "y_pred=clf.predict(X_test)\n",
    "accuracy = accuracy_score(y_test, y_pred)\n",
    "print(accuracy)\n",
    "accuracy = f1_score(y_test, y_pred)\n",
    "print(accuracy)\n",
    "accuracy = precision_score(y_test, y_pred)\n",
    "print(accuracy)\n",
    "accuracy = recall_score(y_test, y_pred)\n",
    "print(accuracy)"
   ]
  },
  {
   "cell_type": "code",
   "execution_count": 47,
   "id": "f5c5e5be",
   "metadata": {},
   "outputs": [
    {
     "data": {
      "text/plain": [
       "array([0.])"
      ]
     },
     "execution_count": 47,
     "metadata": {},
     "output_type": "execute_result"
    }
   ],
   "source": [
    "clf.predict(np.array(x.loc[0]).reshape((1,-1)))"
   ]
  },
  {
   "cell_type": "code",
   "execution_count": 5,
   "id": "87636db7",
   "metadata": {},
   "outputs": [],
   "source": [
    "f_test = lambda x: 1"
   ]
  },
  {
   "cell_type": "code",
   "execution_count": 12,
   "id": "ba3289a4",
   "metadata": {},
   "outputs": [
    {
     "data": {
      "text/plain": [
       "0.0"
      ]
     },
     "execution_count": 12,
     "metadata": {},
     "output_type": "execute_result"
    }
   ],
   "source": [
    "np.unique(y)[0]"
   ]
  },
  {
   "cell_type": "code",
   "execution_count": 39,
   "id": "592551b5",
   "metadata": {},
   "outputs": [
    {
     "data": {
      "text/html": [
       "<div>\n",
       "<style scoped>\n",
       "    .dataframe tbody tr th:only-of-type {\n",
       "        vertical-align: middle;\n",
       "    }\n",
       "\n",
       "    .dataframe tbody tr th {\n",
       "        vertical-align: top;\n",
       "    }\n",
       "\n",
       "    .dataframe thead th {\n",
       "        text-align: right;\n",
       "    }\n",
       "</style>\n",
       "<table border=\"1\" class=\"dataframe\">\n",
       "  <thead>\n",
       "    <tr style=\"text-align: right;\">\n",
       "      <th></th>\n",
       "      <th>Global Welfare</th>\n",
       "      <th>First Person Welfare</th>\n",
       "      <th>Middle Person Welfare</th>\n",
       "      <th>Last Person Welfare</th>\n",
       "      <th>Line Cutter Welfare</th>\n",
       "      <th>Universalization</th>\n",
       "      <th>Likelihood</th>\n",
       "      <th>type</th>\n",
       "      <th>family</th>\n",
       "    </tr>\n",
       "  </thead>\n",
       "  <tbody>\n",
       "    <tr>\n",
       "      <th>1921</th>\n",
       "      <td>-10.0</td>\n",
       "      <td>-27.0</td>\n",
       "      <td>-8.0</td>\n",
       "      <td>-14.0</td>\n",
       "      <td>-9.0</td>\n",
       "      <td>6.0</td>\n",
       "      <td>57.0</td>\n",
       "      <td>18</td>\n",
       "      <td>1</td>\n",
       "    </tr>\n",
       "    <tr>\n",
       "      <th>1344</th>\n",
       "      <td>-10.0</td>\n",
       "      <td>-10.0</td>\n",
       "      <td>-10.0</td>\n",
       "      <td>-10.0</td>\n",
       "      <td>0.0</td>\n",
       "      <td>-10.0</td>\n",
       "      <td>65.0</td>\n",
       "      <td>13</td>\n",
       "      <td>1</td>\n",
       "    </tr>\n",
       "    <tr>\n",
       "      <th>1220</th>\n",
       "      <td>-33.0</td>\n",
       "      <td>-15.0</td>\n",
       "      <td>-19.0</td>\n",
       "      <td>-31.0</td>\n",
       "      <td>1.0</td>\n",
       "      <td>-21.0</td>\n",
       "      <td>63.0</td>\n",
       "      <td>12</td>\n",
       "      <td>1</td>\n",
       "    </tr>\n",
       "    <tr>\n",
       "      <th>1854</th>\n",
       "      <td>22.0</td>\n",
       "      <td>15.0</td>\n",
       "      <td>21.0</td>\n",
       "      <td>33.0</td>\n",
       "      <td>14.0</td>\n",
       "      <td>27.0</td>\n",
       "      <td>76.0</td>\n",
       "      <td>17</td>\n",
       "      <td>1</td>\n",
       "    </tr>\n",
       "    <tr>\n",
       "      <th>1374</th>\n",
       "      <td>-20.0</td>\n",
       "      <td>-17.0</td>\n",
       "      <td>-22.0</td>\n",
       "      <td>-19.0</td>\n",
       "      <td>0.0</td>\n",
       "      <td>-19.0</td>\n",
       "      <td>53.0</td>\n",
       "      <td>13</td>\n",
       "      <td>1</td>\n",
       "    </tr>\n",
       "    <tr>\n",
       "      <th>...</th>\n",
       "      <td>...</td>\n",
       "      <td>...</td>\n",
       "      <td>...</td>\n",
       "      <td>...</td>\n",
       "      <td>...</td>\n",
       "      <td>...</td>\n",
       "      <td>...</td>\n",
       "      <td>...</td>\n",
       "      <td>...</td>\n",
       "    </tr>\n",
       "    <tr>\n",
       "      <th>1716</th>\n",
       "      <td>27.0</td>\n",
       "      <td>35.0</td>\n",
       "      <td>50.0</td>\n",
       "      <td>41.0</td>\n",
       "      <td>38.0</td>\n",
       "      <td>35.0</td>\n",
       "      <td>100.0</td>\n",
       "      <td>16</td>\n",
       "      <td>1</td>\n",
       "    </tr>\n",
       "    <tr>\n",
       "      <th>1053</th>\n",
       "      <td>29.0</td>\n",
       "      <td>31.0</td>\n",
       "      <td>35.0</td>\n",
       "      <td>32.0</td>\n",
       "      <td>26.0</td>\n",
       "      <td>34.0</td>\n",
       "      <td>98.0</td>\n",
       "      <td>10</td>\n",
       "      <td>0</td>\n",
       "    </tr>\n",
       "    <tr>\n",
       "      <th>1630</th>\n",
       "      <td>19.0</td>\n",
       "      <td>20.0</td>\n",
       "      <td>32.0</td>\n",
       "      <td>18.0</td>\n",
       "      <td>31.0</td>\n",
       "      <td>21.0</td>\n",
       "      <td>82.0</td>\n",
       "      <td>15</td>\n",
       "      <td>1</td>\n",
       "    </tr>\n",
       "    <tr>\n",
       "      <th>174</th>\n",
       "      <td>-19.0</td>\n",
       "      <td>-7.0</td>\n",
       "      <td>-18.0</td>\n",
       "      <td>-28.0</td>\n",
       "      <td>-9.0</td>\n",
       "      <td>-13.0</td>\n",
       "      <td>57.0</td>\n",
       "      <td>1</td>\n",
       "      <td>0</td>\n",
       "    </tr>\n",
       "    <tr>\n",
       "      <th>1673</th>\n",
       "      <td>-1.0</td>\n",
       "      <td>1.0</td>\n",
       "      <td>2.0</td>\n",
       "      <td>29.0</td>\n",
       "      <td>31.0</td>\n",
       "      <td>0.0</td>\n",
       "      <td>93.0</td>\n",
       "      <td>16</td>\n",
       "      <td>1</td>\n",
       "    </tr>\n",
       "  </tbody>\n",
       "</table>\n",
       "<p>768 rows × 9 columns</p>\n",
       "</div>"
      ],
      "text/plain": [
       "      Global Welfare  First Person Welfare  Middle Person Welfare  \\\n",
       "1921           -10.0                 -27.0                   -8.0   \n",
       "1344           -10.0                 -10.0                  -10.0   \n",
       "1220           -33.0                 -15.0                  -19.0   \n",
       "1854            22.0                  15.0                   21.0   \n",
       "1374           -20.0                 -17.0                  -22.0   \n",
       "...              ...                   ...                    ...   \n",
       "1716            27.0                  35.0                   50.0   \n",
       "1053            29.0                  31.0                   35.0   \n",
       "1630            19.0                  20.0                   32.0   \n",
       "174            -19.0                  -7.0                  -18.0   \n",
       "1673            -1.0                   1.0                    2.0   \n",
       "\n",
       "      Last Person Welfare  Line Cutter Welfare  Universalization  Likelihood  \\\n",
       "1921                -14.0                 -9.0               6.0        57.0   \n",
       "1344                -10.0                  0.0             -10.0        65.0   \n",
       "1220                -31.0                  1.0             -21.0        63.0   \n",
       "1854                 33.0                 14.0              27.0        76.0   \n",
       "1374                -19.0                  0.0             -19.0        53.0   \n",
       "...                   ...                  ...               ...         ...   \n",
       "1716                 41.0                 38.0              35.0       100.0   \n",
       "1053                 32.0                 26.0              34.0        98.0   \n",
       "1630                 18.0                 31.0              21.0        82.0   \n",
       "174                 -28.0                 -9.0             -13.0        57.0   \n",
       "1673                 29.0                 31.0               0.0        93.0   \n",
       "\n",
       "      type  family  \n",
       "1921    18       1  \n",
       "1344    13       1  \n",
       "1220    12       1  \n",
       "1854    17       1  \n",
       "1374    13       1  \n",
       "...    ...     ...  \n",
       "1716    16       1  \n",
       "1053    10       0  \n",
       "1630    15       1  \n",
       "174      1       0  \n",
       "1673    16       1  \n",
       "\n",
       "[768 rows x 9 columns]"
      ]
     },
     "execution_count": 39,
     "metadata": {},
     "output_type": "execute_result"
    }
   ],
   "source": [
    "X_test"
   ]
  },
  {
   "cell_type": "code",
   "execution_count": 7,
   "id": "5b0c0c72",
   "metadata": {},
   "outputs": [
    {
     "data": {
      "text/plain": [
       "family  Judgement\n",
       "0       1.0          733\n",
       "        2.0          479\n",
       "1       1.0          463\n",
       "        2.0          307\n",
       "2       1.0          276\n",
       "        2.0          300\n",
       "Name: Global Welfare, dtype: int64"
      ]
     },
     "execution_count": 7,
     "metadata": {},
     "output_type": "execute_result"
    }
   ],
   "source": [
    "new_train.groupby(['family','Judgement'])['Global Welfare'].count()"
   ]
  },
  {
   "cell_type": "code",
   "execution_count": 6,
   "id": "01b5bebc",
   "metadata": {},
   "outputs": [
    {
     "data": {
      "text/plain": [
       "family  type  Judgement  Global Welfare\n",
       "0       0     1.0        -39.0             1\n",
       "                         -32.0             1\n",
       "                         -27.0             1\n",
       "                         -26.0             1\n",
       "                         -22.0             1\n",
       "                                          ..\n",
       "2       24    2.0         22.0             1\n",
       "                          26.0             1\n",
       "                          30.0             1\n",
       "                          32.0             1\n",
       "                          40.0             1\n",
       "Name: Global Welfare, Length: 1533, dtype: int64"
      ]
     },
     "execution_count": 6,
     "metadata": {},
     "output_type": "execute_result"
    }
   ],
   "source": [
    "new_train.groupby(['family','type','Judgement','Global Welfare'])['Global Welfare'].count()"
   ]
  },
  {
   "cell_type": "code",
   "execution_count": 20,
   "id": "f4c36374",
   "metadata": {},
   "outputs": [
    {
     "data": {
      "text/plain": [
       "[[0.81640625, 0.7751196172248803, 0.7941176470588235, 0.7570093457943925],\n",
       " [0.76171875, 0.6666666666666667, 0.7176470588235294, 0.6224489795918368],\n",
       " [0.73046875, 0.7160493827160493, 0.71900826446281, 0.7131147540983607],\n",
       " [0.78125, 0.7454545454545455, 0.7735849056603774, 0.7192982456140351],\n",
       " [0.76171875, 0.708133971291866, 0.7326732673267327, 0.6851851851851852],\n",
       " [0.734375, 0.6344086021505376, 0.7195121951219512, 0.5673076923076923],\n",
       " [0.79296875, 0.7439613526570049, 0.8105263157894737, 0.6875],\n",
       " [0.76171875, 0.6995073891625616, 0.7244897959183674, 0.6761904761904762],\n",
       " [0.7686274509803922,\n",
       "  0.694300518134715,\n",
       "  0.7127659574468085,\n",
       "  0.6767676767676768],\n",
       " [0.7725490196078432,\n",
       "  0.7410714285714285,\n",
       "  0.7757009345794392,\n",
       "  0.7094017094017094]]"
      ]
     },
     "execution_count": 20,
     "metadata": {},
     "output_type": "execute_result"
    }
   ],
   "source": [
    "score_rand"
   ]
  },
  {
   "cell_type": "code",
   "execution_count": 21,
   "id": "3873463f",
   "metadata": {},
   "outputs": [
    {
     "data": {
      "text/plain": [
       "[[0.7578125, 0.69, 0.7419354838709677, 0.6448598130841121],\n",
       " [0.7265625, 0.6354166666666666, 0.648936170212766, 0.6224489795918368],\n",
       " [0.71484375, 0.7044534412955465, 0.696, 0.7131147540983607],\n",
       " [0.76953125, 0.7377777777777778, 0.7477477477477478, 0.7280701754385965],\n",
       " [0.73046875, 0.6790697674418604, 0.6822429906542056, 0.6759259259259259],\n",
       " [0.73046875, 0.6145251396648044, 0.7333333333333333, 0.5288461538461539],\n",
       " [0.765625, 0.7247706422018348, 0.7452830188679245, 0.7053571428571429],\n",
       " [0.75, 0.6831683168316831, 0.711340206185567, 0.6571428571428571],\n",
       " [0.7450980392156863, 0.6733668341708543, 0.67, 0.6767676767676768],\n",
       " [0.7568627450980392,\n",
       "  0.7256637168141592,\n",
       "  0.7522935779816514,\n",
       "  0.7008547008547008]]"
      ]
     },
     "execution_count": 21,
     "metadata": {},
     "output_type": "execute_result"
    }
   ],
   "source": [
    "score_xgb"
   ]
  },
  {
   "cell_type": "code",
   "execution_count": null,
   "id": "d1beaf0b",
   "metadata": {},
   "outputs": [],
   "source": []
  }
 ],
 "metadata": {
  "kernelspec": {
   "display_name": "Python 3",
   "language": "python",
   "name": "python3"
  },
  "language_info": {
   "codemirror_mode": {
    "name": "ipython",
    "version": 3
   },
   "file_extension": ".py",
   "mimetype": "text/x-python",
   "name": "python",
   "nbconvert_exporter": "python",
   "pygments_lexer": "ipython3",
   "version": "3.7.3"
  }
 },
 "nbformat": 4,
 "nbformat_minor": 5
}
